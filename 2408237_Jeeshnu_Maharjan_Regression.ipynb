{
  "nbformat": 4,
  "nbformat_minor": 0,
  "metadata": {
    "colab": {
      "provenance": [],
      "mount_file_id": "1hFwBB5N2iisyD0FdjT3WNIAPHt9jGki2",
      "authorship_tag": "ABX9TyNAavaqlIrneXiPFrmmYWgP",
      "include_colab_link": true
    },
    "kernelspec": {
      "name": "python3",
      "display_name": "Python 3"
    },
    "language_info": {
      "name": "python"
    }
  },
  "cells": [
    {
      "cell_type": "markdown",
      "metadata": {
        "id": "view-in-github",
        "colab_type": "text"
      },
      "source": [
        "<a href=\"https://colab.research.google.com/github/JeeshnuMaharjan/Weekly-Workshop-Python/blob/main/2408237_Jeeshnu_Maharjan_Regression.ipynb\" target=\"_parent\"><img src=\"https://colab.research.google.com/assets/colab-badge.svg\" alt=\"Open In Colab\"/></a>"
      ]
    },
    {
      "cell_type": "markdown",
      "source": [
        "## **Mounting Google Drive**"
      ],
      "metadata": {
        "id": "mraMw5fQ4ji1"
      }
    },
    {
      "cell_type": "code",
      "execution_count": null,
      "metadata": {
        "colab": {
          "base_uri": "https://localhost:8080/"
        },
        "id": "OBZpvL0T4TYb",
        "outputId": "7671b583-5b3b-4aa4-b73e-af097beecc90"
      },
      "outputs": [
        {
          "output_type": "stream",
          "name": "stdout",
          "text": [
            "Drive already mounted at /content/drive; to attempt to forcibly remount, call drive.mount(\"/content/drive\", force_remount=True).\n"
          ]
        }
      ],
      "source": [
        "from google.colab import drive\n",
        "drive.mount('/content/drive')"
      ]
    },
    {
      "cell_type": "markdown",
      "source": [
        "# **Data Preprocessing**\n",
        "---\n",
        "1.   Loading the dataset through google drive.\n",
        "2.   Displaying first five rows.\n",
        "3.   Cleaning the Data by checking any missing or duplicate values.\n",
        "4.   Sorting needed values in order.\n",
        "5.   Data visualization."
      ],
      "metadata": {
        "id": "2az4DNQC4tPr"
      }
    },
    {
      "cell_type": "code",
      "source": [
        "import pandas as pd\n",
        "import seaborn as sns\n",
        "import matplotlib.pyplot as plt\n",
        "\n",
        "\n",
        "\n",
        "#         DATA OVERVIEW\n",
        "\n",
        "# Loading the dataset using pandas\n",
        "crop_yield_df = pd.read_csv(\"/content/drive/MyDrive/crop_yield.csv\")\n",
        "\n",
        "print(\"\\033[4m                  \\033[0m\")\n",
        "print(\"\\033[4m\\033[1mDATA PREPROCESSING\\033[0m\\033[0m\\n\\n\")\n",
        "print(\"\\t\\t\\t\\033[1mDATASET OVERVIEW:\\033[0m\\n\")\n",
        "\n",
        "# Previewing the first 5 rows of the dataset\n",
        "print(\"\\033[4mFIRST 5 ROWS OF THE DATASET\\033[0m\")\n",
        "print(crop_yield_df.head())\n",
        "print()\n",
        "\n",
        "\n",
        "\n",
        "#       CHECKING MISSING VALUES\n",
        "\n",
        "# Checking for any missing values in the dataset\n",
        "missing_values = crop_yield_df.isnull().sum()\n",
        "\n",
        "# Displaying the total count of missing values for each column\n",
        "print(\"\\n    \\033[1mMISSING VALUES:\\033[0m\")\n",
        "print(\"\\nCOLUMN \\t  MISSING COUNT\")\n",
        "print(\"-----------------------\")\n",
        "print(missing_values)\n",
        "print()\n",
        "\n",
        "# Identifying the number of rows and columns\n",
        "rows, columns = crop_yield_df.shape\n",
        "print(f\"\\n\\033[4mTHE NUMBER OF ROWS AND COLUMNS\\033[0m \\nRows: \\033[1m{rows}\\033[0m \\nColumns: \\033[1m{columns}\\033[0m\")\n",
        "print()\n",
        "\n",
        "# Listing all columns and their data types\n",
        "print(\"\\nCOLUMN\\t\\tDATATYPE\")\n",
        "print(\"-----------------------\")\n",
        "print(crop_yield_df.dtypes)\n",
        "print()\n",
        "\n",
        "\n",
        "\n",
        "#       STATISTICAL ANALYSIS\n",
        "\n",
        "print(\"\\n\\033[1mSTATISTICAL ANALYSIS\\033[0m\\n\")\n",
        "\n",
        "# Calculating basic statistics for the 'Yield' column\n",
        "mean_score = crop_yield_df['Yield'].mean()\n",
        "median_score = crop_yield_df['Yield'].median()\n",
        "std_score = crop_yield_df['Yield'].std()\n",
        "\n",
        "print(f\"\\033[4mBASIC STATISTICS\\033[0m\")\n",
        "print(f\"Mean Yield: \\033[1m{mean_score:.2f}\\033[0m\")\n",
        "print(f\"Median Yield: \\033[1m{median_score:.2f}\\033[0m\")\n",
        "print(f\"Standard Deviation: \\033[1m{std_score:.2f}\\033[0m\")\n",
        "print()\n",
        "\n",
        "# Statistical Summary\n",
        "description = crop_yield_df.describe()\n",
        "print(f\"\\n\\033[4mDETAILED STATISTICAL SUMMARY:\\033[0m\\n{description}\")\n",
        "print()\n",
        "\n",
        "\n",
        "#       DATA CLEANING\n",
        "\n",
        "#       FILTERING AND SORTING RICE DATA\n",
        "\n",
        "# Filtering dataset for only 'Rice' crops\n",
        "rice_yield_df = crop_yield_df[crop_yield_df[\"Crop\"] == \"Rice\"]\n",
        "rice_yield_df = rice_yield_df.sort_values(by=[\"Crop_Year\"], ascending=[False])\n",
        "\n",
        "print(\"\\n\\t\\t\\t  \\033[1mDATA CLEANING:\\033[0m\")\n",
        "print(\"\\n\\033[1mFILTERED DATASET (RICE ONLY)\\033[0m\")\n",
        "\n",
        "# Ensuring no extra spaces in 'Season' column\n",
        "rice_yield_df['Season'] = rice_yield_df['Season'].str.strip()\n",
        "\n",
        "# Final season value replacement\n",
        "rice_yield_df['Season'] = rice_yield_df['Season'].replace({\"Kharif\": \"Monsoon\", \"Rabi\": \"Winter\"})\n",
        "\n",
        "# Saving the cleaned and sorted Rice dataset\n",
        "rice_yield_df.to_csv(\"/content/drive/MyDrive/Rice_Yield_Dataset.csv\", index=False)\n",
        "\n",
        "# Resetting index for better readability\n",
        "rice_yield_df = rice_yield_df.reset_index(drop=True)\n",
        "\n",
        "print(\"\\033[4mFIRST 5 ROWS OF SORTED RICE DATASET:\\033[0m\")\n",
        "print(rice_yield_df.head())\n",
        "print(\"\\n\\033[1mCleaned Rice dataset saved successfully.\\033[0m\\n\")\n"
      ],
      "metadata": {
        "colab": {
          "base_uri": "https://localhost:8080/"
        },
        "id": "I1q56iD24-Mv",
        "outputId": "24412194-52c1-44ea-b469-577bf30604b0"
      },
      "execution_count": null,
      "outputs": [
        {
          "output_type": "stream",
          "name": "stdout",
          "text": [
            "\u001b[4m                  \u001b[0m\n",
            "\u001b[4m\u001b[1mDATA PREPROCESSING\u001b[0m\u001b[0m\n",
            "\n",
            "\n",
            "\t\t\t\u001b[1mDATASET OVERVIEW:\u001b[0m\n",
            "\n",
            "\u001b[4mFIRST 5 ROWS OF THE DATASET\u001b[0m\n",
            "           Crop  Crop_Year       Season  State     Area  Production  \\\n",
            "0      Arecanut       1997  Whole Year   Assam  73814.0       56708   \n",
            "1     Arhar/Tur       1997  Kharif       Assam   6637.0        4685   \n",
            "2   Castor seed       1997  Kharif       Assam    796.0          22   \n",
            "3      Coconut        1997  Whole Year   Assam  19656.0   126905000   \n",
            "4  Cotton(lint)       1997  Kharif       Assam   1739.0         794   \n",
            "\n",
            "   Annual_Rainfall  Fertilizer  Pesticide        Yield  \n",
            "0           2051.4  7024878.38   22882.34     0.796087  \n",
            "1           2051.4   631643.29    2057.47     0.710435  \n",
            "2           2051.4    75755.32     246.76     0.238333  \n",
            "3           2051.4  1870661.52    6093.36  5238.051739  \n",
            "4           2051.4   165500.63     539.09     0.420909  \n",
            "\n",
            "\n",
            "    \u001b[1mMISSING VALUES:\u001b[0m\n",
            "\n",
            "COLUMN \t  MISSING COUNT\n",
            "-----------------------\n",
            "Crop               0\n",
            "Crop_Year          0\n",
            "Season             0\n",
            "State              0\n",
            "Area               0\n",
            "Production         0\n",
            "Annual_Rainfall    0\n",
            "Fertilizer         0\n",
            "Pesticide          0\n",
            "Yield              0\n",
            "dtype: int64\n",
            "\n",
            "\n",
            "\u001b[4mTHE NUMBER OF ROWS AND COLUMNS\u001b[0m \n",
            "Rows: \u001b[1m19689\u001b[0m \n",
            "Columns: \u001b[1m10\u001b[0m\n",
            "\n",
            "\n",
            "COLUMN\t\tDATATYPE\n",
            "-----------------------\n",
            "Crop                object\n",
            "Crop_Year            int64\n",
            "Season              object\n",
            "State               object\n",
            "Area               float64\n",
            "Production           int64\n",
            "Annual_Rainfall    float64\n",
            "Fertilizer         float64\n",
            "Pesticide          float64\n",
            "Yield              float64\n",
            "dtype: object\n",
            "\n",
            "\n",
            "\u001b[1mSTATISTICAL ANALYSIS\u001b[0m\n",
            "\n",
            "\u001b[4mBASIC STATISTICS\u001b[0m\n",
            "Mean Yield: \u001b[1m79.95\u001b[0m\n",
            "Median Yield: \u001b[1m1.03\u001b[0m\n",
            "Standard Deviation: \u001b[1m878.31\u001b[0m\n",
            "\n",
            "\n",
            "\u001b[4mDETAILED STATISTICAL SUMMARY:\u001b[0m\n",
            "          Crop_Year          Area    Production  Annual_Rainfall  \\\n",
            "count  19689.000000  1.968900e+04  1.968900e+04     19689.000000   \n",
            "mean    2009.127584  1.799266e+05  1.643594e+07      1437.755177   \n",
            "std        6.498099  7.328287e+05  2.630568e+08       816.909589   \n",
            "min     1997.000000  5.000000e-01  0.000000e+00       301.300000   \n",
            "25%     2004.000000  1.390000e+03  1.393000e+03       940.700000   \n",
            "50%     2010.000000  9.317000e+03  1.380400e+04      1247.600000   \n",
            "75%     2015.000000  7.511200e+04  1.227180e+05      1643.700000   \n",
            "max     2020.000000  5.080810e+07  6.326000e+09      6552.700000   \n",
            "\n",
            "         Fertilizer     Pesticide         Yield  \n",
            "count  1.968900e+04  1.968900e+04  19689.000000  \n",
            "mean   2.410331e+07  4.884835e+04     79.954009  \n",
            "std    9.494600e+07  2.132874e+05    878.306193  \n",
            "min    5.417000e+01  9.000000e-02      0.000000  \n",
            "25%    1.880146e+05  3.567000e+02      0.600000  \n",
            "50%    1.234957e+06  2.421900e+03      1.030000  \n",
            "75%    1.000385e+07  2.004170e+04      2.388889  \n",
            "max    4.835407e+09  1.575051e+07  21105.000000  \n",
            "\n",
            "\n",
            "\t\t\t  \u001b[1mDATA CLEANING:\u001b[0m\n",
            "\n",
            "\u001b[1mFILTERED DATASET (RICE ONLY)\u001b[0m\n",
            "\u001b[4mFIRST 5 ROWS OF SORTED RICE DATASET:\u001b[0m\n",
            "   Crop  Crop_Year   Season          State       Area  Production  \\\n",
            "0  Rice       2020   Summer    Uttarakhand    15315.0       55057   \n",
            "1  Rice       2020  Monsoon    Uttarakhand   241936.0      669372   \n",
            "2  Rice       2019   Summer        Tripura    70577.0      228104   \n",
            "3  Rice       2019   Winter        Tripura   147295.0      471608   \n",
            "4  Rice       2019  Monsoon  Uttar Pradesh  5898690.0    16947998   \n",
            "\n",
            "   Annual_Rainfall    Fertilizer   Pesticide     Yield  \n",
            "0      1313.947826  2.965137e+06     5666.55  3.563333  \n",
            "1      1313.947826  4.684123e+07    89516.32  2.093077  \n",
            "2      2252.800000  1.212231e+07    26113.49  3.130000  \n",
            "3      2252.800000  2.529939e+07    54499.15  3.173750  \n",
            "4       814.500000  1.013159e+09  2182515.30  2.823467  \n",
            "\n",
            "\u001b[1mCleaned Rice dataset saved successfully.\u001b[0m\n",
            "\n"
          ]
        }
      ]
    },
    {
      "cell_type": "markdown",
      "source": [],
      "metadata": {
        "id": "RdvUR46IPm0l"
      }
    },
    {
      "cell_type": "markdown",
      "source": [
        "# **Data Visualaisation**"
      ],
      "metadata": {
        "id": "_8SM23MnsV86"
      }
    },
    {
      "cell_type": "code",
      "source": [
        "import matplotlib.pyplot as plt\n",
        "import seaborn as sns\n",
        "\n",
        "# Plotting Annual Rainfall vs Production, grouped by State\n",
        "plt.figure(figsize=(10, 6))\n",
        "sns.scatterplot(data=rice_yield_df, x='Annual_Rainfall', y='Production', hue='State', palette='viridis')\n",
        "plt.title('Annual Rainfall vs Production')\n",
        "plt.xlabel('Annual Rainfall (mm)')\n",
        "plt.ylabel('Production (tons)')\n",
        "plt.legend(title='State')\n",
        "plt.show()\n"
      ],
      "metadata": {
        "colab": {
          "base_uri": "https://localhost:8080/",
          "height": 583
        },
        "id": "0xdeXvVqsVZv",
        "outputId": "e03df13a-2abe-4ee4-fef8-10a40c182773"
      },
      "execution_count": null,
      "outputs": [
        {
          "output_type": "display_data",
          "data": {
            "text/plain": [
              "<Figure size 1000x600 with 1 Axes>"
            ],
            "image/png": "[encoded data removed]"
          },
          "metadata": {}
        }
      ]
    },
    {
      "cell_type": "code",
      "source": [
        "plt.figure(figsize=(10, 6))\n",
        "sns.boxplot(data=rice_yield_df, x='Season', y='Production', palette='Set2')\n",
        "plt.title('Seasonal Variation in Production')\n",
        "plt.xlabel('Season')\n",
        "plt.ylabel('Production (tons)')\n",
        "plt.show()\n"
      ],
      "metadata": {
        "colab": {
          "base_uri": "https://localhost:8080/",
          "height": 538
        },
        "id": "PedzrxYYNrFa",
        "outputId": "72174d23-c84d-4384-da19-97b257f0887e"
      },
      "execution_count": null,
      "outputs": [
        {
          "output_type": "stream",
          "name": "stderr",
          "text": [
            "<ipython-input-84-9dbb205446b5>:2: FutureWarning: \n",
            "\n",
            "Passing `palette` without assigning `hue` is deprecated and will be removed in v0.14.0. Assign the `x` variable to `hue` and set `legend=False` for the same effect.\n",
            "\n",
            "  sns.boxplot(data=rice_yield_df, x='Season', y='Production', palette='Set2')\n"
          ]
        },
        {
          "output_type": "display_data",
          "data": {
            "text/plain": [
              "<Figure size 1000x600 with 1 Axes>"
            ],
            "image/png": "[encoded data removed]"
          },
          "metadata": {}
        }
      ]
    },
    {
      "cell_type": "markdown",
      "source": [
        "# **Splitting Dataset into Training and Testing Sets**"
      ],
      "metadata": {
        "id": "SO11zQnlsYh-"
      }
    },
    {
      "cell_type": "markdown",
      "source": [
        "**Preparing data and varibales for Training and Testing**"
      ],
      "metadata": {
        "id": "6_cJsW61seod"
      }
    },
    {
      "cell_type": "code",
      "source": [
        "import numpy as np\n",
        "import pandas as pd\n",
        "from sklearn.preprocessing import MinMaxScaler\n",
        "\n",
        "print(\"\\t\\t\\t\\033[1mDATA ENCODING AND FEATURE SCALING\\033[0m\")\n",
        "\n",
        "# Define features (independent variables) and target (dependent variable)\n",
        "features = [\n",
        "    'State',\n",
        "    'Season',\n",
        "    'Area',\n",
        "    'Production',\n",
        "    'Annual_Rainfall',\n",
        "    'Fertilizer',\n",
        "    'Pesticide'\n",
        "]\n",
        "target = 'Yield'\n",
        "\n",
        "#       ENCODING FOR STATE\n",
        "print(\"\\n\\033[1m\\033[4mENCODING FOR STATE\\033[0m\")\n",
        "\n",
        "# Set the correct order for the categories\n",
        "rice_yield_df['State'] = pd.Categorical(rice_yield_df['State'])\n",
        "\n",
        "# Convert categorical target variable into numerical labels (0, 1, 2, ...)\n",
        "rice_yield_df['State'] = rice_yield_df['State'].cat.codes\n",
        "\n",
        "# Verify the encoding\n",
        "print(f\"Unique State values: {rice_yield_df['State'].unique()}\")\n",
        "print(f\"Unique State values in order: {np.unique(rice_yield_df['State'])}\")\n",
        "print(\"--------------------------------------------------------------------------------------------------------\")\n",
        "\n",
        "#       ENCODING FOR SEASON\n",
        "print(\"\\033[1m\\033[4mENCODING FOR SEASON\\033[0m\")\n",
        "\n",
        "# Set the correct order for the categories\n",
        "rice_yield_df['Season'] = pd.Categorical(\n",
        "    rice_yield_df['Season'],\n",
        "    categories=['Monsoon', 'Winter', 'Summer', 'Autumn', 'Whole Year'],\n",
        "    ordered=True\n",
        ")\n",
        "\n",
        "# Convert categorical target variable into numerical labels (0, 1, 2, 3, 4)\n",
        "rice_yield_df['Season'] = rice_yield_df['Season'].cat.codes\n",
        "\n",
        "# Verify the encoding\n",
        "print(f\"Unique Season values: {rice_yield_df['Season'].unique()}\")\n",
        "print(f\"Unique Season values in order: {np.unique(rice_yield_df['Season'])}\")\n",
        "\n",
        "# Prepare the feature matrix X (independent variables)\n",
        "X = rice_yield_df[features].values\n",
        "\n",
        "# Prepare the target variable y (dependent variable with integer labels)\n",
        "y = rice_yield_df[target].values\n",
        "\n",
        "\n",
        "#       FEATURE SCALING (Normalizing the value of X)\n",
        "\n",
        "# input features (X) have very large values or different scales, it can cause the dot product X.dot(W) to become excessively large.\n",
        "scaler = MinMaxScaler()\n",
        "X_scaled = scaler.fit_transform(X)\n",
        "\n",
        "# Verify the shapes of X and y\n",
        "print(\"--------------------------------------------------------------------------------------------------------\")\n",
        "print(f\"\\033[4mShape of X:\\033[0m {X.shape}\")\n",
        "print(f\"\\033[4mShape of y:\\033[0m {y.shape}\")\n",
        "print()\n"
      ],
      "metadata": {
        "colab": {
          "base_uri": "https://localhost:8080/"
        },
        "id": "W-hpX_HWPnJH",
        "outputId": "058b868c-059c-4132-a8fe-cf278f368c98"
      },
      "execution_count": null,
      "outputs": [
        {
          "output_type": "stream",
          "name": "stdout",
          "text": [
            "\t\t\t\u001b[1mDATA ENCODING AND FEATURE SCALING\u001b[0m\n",
            "\n",
            "\u001b[1m\u001b[4mENCODING FOR STATE\u001b[0m\n",
            "Unique State values: [28 26 27 29  5  1  3 10  0 21 23 25  2 15  4  7  8  9 11 14 18 19 20 22\n",
            " 12 17 13 24  6 16]\n",
            "Unique State values in order: [ 0  1  2  3  4  5  6  7  8  9 10 11 12 13 14 15 16 17 18 19 20 21 22 23\n",
            " 24 25 26 27 28 29]\n",
            "--------------------------------------------------------------------------------------------------------\n",
            "\u001b[1m\u001b[4mENCODING FOR SEASON\u001b[0m\n",
            "Unique Season values: [2 0 1 3 4]\n",
            "Unique Season values in order: [0 1 2 3 4]\n",
            "--------------------------------------------------------------------------------------------------------\n",
            "\u001b[4mShape of X:\u001b[0m (1197, 7)\n",
            "\u001b[4mShape of y:\u001b[0m (1197,)\n",
            "\n"
          ]
        }
      ]
    },
    {
      "cell_type": "markdown",
      "source": [
        "**Splitting Data into Training and Testing Sets**"
      ],
      "metadata": {
        "id": "h2tCYR80slmz"
      }
    },
    {
      "cell_type": "code",
      "source": [
        "from sklearn.model_selection import train_test_split\n",
        "\n",
        "# Split dataset (80% training, 20% testing)\n",
        "X_train, X_test, y_train, y_test = train_test_split(X_scaled, y, test_size=0.2, random_state=42, shuffle=True)"
      ],
      "metadata": {
        "id": "GGqIxCTbWwC9"
      },
      "execution_count": null,
      "outputs": []
    },
    {
      "cell_type": "markdown",
      "source": [
        "# **Building Logistic Regression for Classification dataset from Scratch**"
      ],
      "metadata": {
        "id": "ft_0ipRhW2-L"
      }
    },
    {
      "cell_type": "markdown",
      "source": [
        "**Bias Addition and Weight Initialization for Model Training**"
      ],
      "metadata": {
        "id": "6QJjTZT1s93_"
      }
    },
    {
      "cell_type": "code",
      "source": [
        "import numpy as np\n",
        "\n",
        "#       ADDING BIAS TERM\n",
        "# Add bias term (intercept) to X_train and X_test\n",
        "X_train_b = np.c_[np.ones((X_train.shape[0], 1)), X_train]  # Add bias column\n",
        "X_test_b = np.c_[np.ones((X_test.shape[0], 1)), X_test]  # Add bias column\n",
        "\n",
        "# Initialize weights for the model\n",
        "W = np.zeros(X_train_b.shape[1])  # Start with weights of zeros\n",
        "\n",
        "#       **TRAINING SET SHAPE**\n",
        "print(\"\\033[1mTRAINING SET SHAPE:\\033[0m\")\n",
        "print(f\"X_train_b shape: {X_train_b.shape}, y_train shape: {y_train.shape}\\n\")\n",
        "\n",
        "#       **TESTING SET SHAPE**\n",
        "print(\"\\033[1mTESTING SET SHAPE:\\033[0m\")\n",
        "print(f\"X_test_b shape: {X_test_b.shape}, y_test shape: {y_test.shape}\\n\")\n",
        "\n",
        "#       INITIAL WEIGHTS\n",
        "print(\"\\033[1mINITIAL WEIGHTS:\\033[0m\")\n",
        "print(f\"Initial Weights (W): {W}\")"
      ],
      "metadata": {
        "colab": {
          "base_uri": "https://localhost:8080/"
        },
        "id": "UxM0vTu5W2SH",
        "outputId": "db07b31c-69c5-40e9-9ca2-cd37618e903f"
      },
      "execution_count": null,
      "outputs": [
        {
          "output_type": "stream",
          "name": "stdout",
          "text": [
            "\u001b[1mTRAINING SET SHAPE:\u001b[0m\n",
            "X_train_b shape: (957, 8), y_train shape: (957,)\n",
            "\n",
            "\u001b[1mTESTING SET SHAPE:\u001b[0m\n",
            "X_test_b shape: (240, 8), y_test shape: (240,)\n",
            "\n",
            "\u001b[1mINITIAL WEIGHTS:\u001b[0m\n",
            "Initial Weights (W): [0. 0. 0. 0. 0. 0. 0. 0.]\n"
          ]
        }
      ]
    },
    {
      "cell_type": "markdown",
      "source": [
        "**Cost Function**"
      ],
      "metadata": {
        "id": "d_xXOdjKtAFD"
      }
    },
    {
      "cell_type": "code",
      "source": [
        "# Define the cost function\n",
        "def cost_function(X, Y, W):\n",
        "    \"\"\"\n",
        "    Calculates the Mean Squared Error.\n",
        "    \"\"\"\n",
        "    m = len(Y)  # Number of samples\n",
        "    J = np.sum((X.dot(W) - Y) ** 2) / (2 * m)\n",
        "    return J"
      ],
      "metadata": {
        "id": "cYV3zeEQXGhj"
      },
      "execution_count": null,
      "outputs": []
    },
    {
      "cell_type": "markdown",
      "source": [
        "**Gradient Descent Calculation**"
      ],
      "metadata": {
        "id": "BFElM2kftAhb"
      }
    },
    {
      "cell_type": "code",
      "source": [
        "# Define the gradient descent function\n",
        "def gradient_descent(X, Y, W, alpha, iterations):\n",
        "    \"\"\"\n",
        "    Performs gradient descent to minimize the cost function.\n",
        "    \"\"\"\n",
        "    cost_history = [0] * iterations\n",
        "    m = len(Y)\n",
        "\n",
        "    for iteration in range(iterations):\n",
        "        # Calculate predictions\n",
        "        Y_pred = X.dot(W)\n",
        "        # Calculate the difference between predictions and actual values\n",
        "        loss = Y_pred - Y\n",
        "        # Gradient calculation\n",
        "        gradient = X.T.dot(loss) / m\n",
        "        # Update weights\n",
        "        W = W - alpha * gradient\n",
        "        # Calculate the cost\n",
        "        cost_history[iteration] = cost_function(X, Y, W)\n",
        "\n",
        "    return W, cost_history\n"
      ],
      "metadata": {
        "id": "4BaXigyxXZNM"
      },
      "execution_count": null,
      "outputs": []
    },
    {
      "cell_type": "markdown",
      "source": [
        "**Calculating MSE, RMSE, R²**"
      ],
      "metadata": {
        "id": "TjVtZ91EtDU0"
      }
    },
    {
      "cell_type": "code",
      "source": [
        "import numpy as np\n",
        "\n",
        "def mse(Y, Y_pred):\n",
        "    # Calculate MSE using numpy\n",
        "    m = len(Y)\n",
        "    mse = np.sum((Y_pred - Y) ** 2) / m\n",
        "    return mse"
      ],
      "metadata": {
        "id": "TBtQN99qyPq3"
      },
      "execution_count": null,
      "outputs": []
    },
    {
      "cell_type": "code",
      "source": [
        "# Define RMSE evaluation function\n",
        "def rmse(Y, Y_pred):\n",
        "    \"\"\"\n",
        "    Calculates the Root Mean Squared Error.\n",
        "    \"\"\"\n",
        "    mse_value = mse(Y, Y_pred)  # Call the mse function here\n",
        "    return np.sqrt(mse_value)  # Take the square root of the MSE to get RMSE"
      ],
      "metadata": {
        "id": "qVyDGR7uXaqQ"
      },
      "execution_count": null,
      "outputs": []
    },
    {
      "cell_type": "code",
      "source": [
        "# Define R² evaluation function\n",
        "def r2(Y, Y_pred):\n",
        "    \"\"\"\n",
        "    Calculates the R-squared value.\n",
        "    \"\"\"\n",
        "    mean_y = np.mean(Y)\n",
        "    ss_tot = np.sum((Y - mean_y) ** 2)\n",
        "    ss_res = np.sum((Y - Y_pred) ** 2)\n",
        "    return 1 - (ss_res / ss_tot)"
      ],
      "metadata": {
        "id": "YuZtuJAiXb2y"
      },
      "execution_count": null,
      "outputs": []
    },
    {
      "cell_type": "markdown",
      "source": [
        "**Training parameter and calculating Final Cost**\n",
        "\n"
      ],
      "metadata": {
        "id": "98hrdjPGtIhq"
      }
    },
    {
      "cell_type": "code",
      "source": [
        "# Training parameters\n",
        "alpha = 0.1  # Learning rate\n",
        "iterations = 100000  # Number of iterations\n",
        "\n",
        "# Train the model using gradient descent\n",
        "new_weights, cost_history = gradient_descent(X_train_b, y_train, W, alpha, iterations)\n",
        "\n",
        "# Output the final weights and cost\n",
        "print(\"\\033[1mFinal Weights:\\033[0m\")\n",
        "print(new_weights)\n",
        "print(\"\\n\\033[1mFinal Cost:\\033[0m\")\n",
        "print(cost_history[-1])"
      ],
      "metadata": {
        "colab": {
          "base_uri": "https://localhost:8080/"
        },
        "id": "HdF0kbOYXdEl",
        "outputId": "a0f51935-3d41-4cb8-b974-59e3ee0e7a28"
      },
      "execution_count": null,
      "outputs": [
        {
          "output_type": "stream",
          "name": "stdout",
          "text": [
            "\u001b[1mFinal Weights:\u001b[0m\n",
            "[ 2.15506659  0.39741609 -0.08288605 -6.46931592  5.65760092 -0.47414363\n",
            " -0.45117106  0.42494897]\n",
            "\n",
            "\u001b[1mFinal Cost:\u001b[0m\n",
            "0.21557385410374047\n"
          ]
        }
      ]
    },
    {
      "cell_type": "markdown",
      "source": [
        "**Comparing values from training and testing sets**"
      ],
      "metadata": {
        "id": "6RnzteUYtVjl"
      }
    },
    {
      "cell_type": "code",
      "source": [
        "# Predictions on the training data\n",
        "y_train_pred = X_train_b.dot(new_weights)\n",
        "\n",
        "# Predictions on the test data\n",
        "y_test_pred = X_test_b.dot(new_weights)\n",
        "\n",
        "# Calculate MSE, RMSE and R² Score for training set\n",
        "train_mse= mse(y_train, y_train_pred)\n",
        "train_rmse = rmse(y_train, y_train_pred)\n",
        "train_r2 = r2(y_train, y_train_pred)\n",
        "\n",
        "# Calculate RMSE and R² Score for test set\n",
        "test_mse= mse(y_test, y_test_pred)\n",
        "test_rmse = rmse(y_test, y_test_pred)\n",
        "test_r2 = r2(y_test, y_test_pred)\n",
        "\n",
        "# Print results\n",
        "print(\"\\033[1mTraining MSE:\\033[0m\", train_mse)\n",
        "print(\"\\033[1mTraining RMSE:\\033[0m\", train_rmse)\n",
        "print(\"\\033[1mTraining R² Score:\\033[0m\", train_r2)\n",
        "\n",
        "print(\"\\n\\033[1mTraining MSE:\\033[0m\", test_mse)\n",
        "print(\"\\033[1mTest RMSE:\\033[0m\", test_rmse)\n",
        "print(\"\\033[1mTest R² Score:\\033[0m\", test_r2)"
      ],
      "metadata": {
        "colab": {
          "base_uri": "https://localhost:8080/"
        },
        "id": "UE-5bxsrXpiX",
        "outputId": "54266110-7219-46de-d766-e2e598c91255"
      },
      "execution_count": null,
      "outputs": [
        {
          "output_type": "stream",
          "name": "stdout",
          "text": [
            "\u001b[1mTraining MSE:\u001b[0m 0.43114770820748094\n",
            "\u001b[1mTraining RMSE:\u001b[0m 0.6566183885694041\n",
            "\u001b[1mTraining R² Score:\u001b[0m 0.3570250242486863\n",
            "\n",
            "\u001b[1mTraining MSE:\u001b[0m 0.29802258644794255\n",
            "\u001b[1mTest RMSE:\u001b[0m 0.5459144497519208\n",
            "\u001b[1mTest R² Score:\u001b[0m 0.44291131344468215\n"
          ]
        }
      ]
    },
    {
      "cell_type": "markdown",
      "source": [
        "**Comparing the testing and training's actual and prediction values (y)**"
      ],
      "metadata": {
        "id": "H_94vEE8tZGd"
      }
    },
    {
      "cell_type": "code",
      "source": [
        "# Compute predictions for training and test sets\n",
        "y_train_pred = X_train_b.dot(new_weights)  # Predictions for training data\n",
        "y_test_pred = X_test_b.dot(new_weights)  # Predictions for test data\n",
        "\n",
        "# Print first 10 actual vs predicted values for training set\n",
        "print(\"\\033[1mTraining Set Predictions (first 5 rows):\\033[0m\")\n",
        "print(\"---------------------------------------\")\n",
        "for actual, predicted in zip(y_train[:5], y_train_pred[:5]):\n",
        "    print(f\"Actual: {actual:.4f} -> Predicted: {predicted:.4f}\")\n",
        "print(\"---------------------------------------\")\n",
        "# Print first 10 actual vs predicted values for test set\n",
        "print(\"\\n\\033[1mTest Set Predictions (first 5 rows):\\033[0m\")\n",
        "print(\"---------------------------------------\")\n",
        "for actual, predicted in zip(y_test[:5], y_test_pred[:5]):\n",
        "    print(f\"Actual: {actual:.4f} -> Predicted: {predicted:.4f}\")\n",
        "print(\"---------------------------------------\\n\")"
      ],
      "metadata": {
        "colab": {
          "base_uri": "https://localhost:8080/"
        },
        "id": "-qa_Ao_FucTD",
        "outputId": "5347b6c9-a6a6-48fb-ce49-82fd5e700ce7"
      },
      "execution_count": null,
      "outputs": [
        {
          "output_type": "stream",
          "name": "stdout",
          "text": [
            "\u001b[1mTraining Set Predictions (first 5 rows):\u001b[0m\n",
            "---------------------------------------\n",
            "Actual: 1.0604 -> Predicted: 1.9499\n",
            "Actual: 2.4800 -> Predicted: 2.0837\n",
            "Actual: 1.3229 -> Predicted: 2.1009\n",
            "Actual: 1.3939 -> Predicted: 1.0119\n",
            "Actual: 2.1562 -> Predicted: 2.1311\n",
            "---------------------------------------\n",
            "\n",
            "\u001b[1mTest Set Predictions (first 5 rows):\u001b[0m\n",
            "---------------------------------------\n",
            "Actual: 2.3056 -> Predicted: 2.3546\n",
            "Actual: 1.7600 -> Predicted: 2.2923\n",
            "Actual: 1.5654 -> Predicted: 2.0556\n",
            "Actual: 1.7986 -> Predicted: 2.1441\n",
            "Actual: 2.5700 -> Predicted: 2.1094\n",
            "---------------------------------------\n",
            "\n"
          ]
        }
      ]
    },
    {
      "cell_type": "markdown",
      "source": [
        "# **Building Primary models for Regression using SciKit Learn**"
      ],
      "metadata": {
        "id": "GjFjpSrMtbPy"
      }
    },
    {
      "cell_type": "markdown",
      "source": [
        "# Polynomial Regression"
      ],
      "metadata": {
        "id": "SnqjDWwFtcUT"
      }
    },
    {
      "cell_type": "markdown",
      "source": [
        "**Step 1: BUILD MODEL**"
      ],
      "metadata": {
        "id": "QRJ1KSj_toY-"
      }
    },
    {
      "cell_type": "code",
      "source": [
        "from sklearn.preprocessing import PolynomialFeatures\n",
        "from sklearn.linear_model import LinearRegression\n",
        "\n",
        "# Initialize PolynomialFeatures\n",
        "poly = PolynomialFeatures(degree=2)  # You can change the degree of the polynomial\n",
        "\n",
        "# Transform the features\n",
        "X_poly_train = poly.fit_transform(X_train)\n",
        "X_poly_test = poly.transform(X_test)\n",
        "\n",
        "# Initialize Linear Regression model\n",
        "poly_reg_model = LinearRegression()\n",
        "\n",
        "# Train the model\n",
        "poly_reg_model.fit(X_poly_train, y_train)\n",
        "\n",
        "# Predict on test data\n",
        "poly_y_pred = poly_reg_model.predict(X_poly_test)\n"
      ],
      "metadata": {
        "id": "Ycb4he_Bzw6z"
      },
      "execution_count": null,
      "outputs": []
    },
    {
      "cell_type": "code",
      "source": [
        "from sklearn.metrics import mean_squared_error, r2_score"
      ],
      "metadata": {
        "id": "qUZWFTrCTvxz"
      },
      "execution_count": null,
      "outputs": []
    },
    {
      "cell_type": "markdown",
      "source": [
        "**Step 2: EVALUTE THE MODEL WITH**\n",
        "\n",
        "\n",
        "\n",
        "\n",
        "\n",
        "1.   Mean Absolute Error (MAE)\n",
        "2.   Root Mean Squared Error (RMSE)\n",
        "3.   R-Squared (R²)\n",
        "\n"
      ],
      "metadata": {
        "id": "E_lwOBbHtt7T"
      }
    },
    {
      "cell_type": "code",
      "source": [
        "from sklearn.metrics import mean_squared_error, r2_score\n",
        "import numpy as np\n",
        "\n",
        "# Evaluate Polynomial Regression model\n",
        "poly_mse = mean_squared_error(y_test, poly_y_pred)\n",
        "poly_rmse = np.sqrt(mean_squared_error(y_test, poly_y_pred))\n",
        "poly_r2 = r2_score(y_test, poly_y_pred)\n",
        "\n",
        "print(f\"\\033[1mPolynomial Regression Model Performance:\\n\\033[0m MSE: {poly_mse}\\n RMSE: {poly_rmse}\\n R²: {poly_r2}\")\n"
      ],
      "metadata": {
        "colab": {
          "base_uri": "https://localhost:8080/"
        },
        "id": "sbVPktNYT3aq",
        "outputId": "a7aad5c7-f0bf-4cca-c30a-78c62579ab92"
      },
      "execution_count": null,
      "outputs": [
        {
          "output_type": "stream",
          "name": "stdout",
          "text": [
            "\u001b[1mPolynomial Regression Model Performance:\n",
            "\u001b[0m MSE: 0.16261796123362965\n",
            " RMSE: 0.40325917377491816\n",
            " R²: 0.6960209374943778\n"
          ]
        }
      ]
    },
    {
      "cell_type": "markdown",
      "source": [
        "**Comparing the testing and training's actual and prediction values (y)**"
      ],
      "metadata": {
        "id": "Qz3HeTsdt7ud"
      }
    },
    {
      "cell_type": "code",
      "source": [
        "# Polynomial Regression - Training Set Predictions (first 10 rows)\n",
        "print(\"\\n  \\033[1mPolynomial Regression - Training Set Predictions (first 10 rows):\\033[1m\")\n",
        "print(\"---------------------------------------------------------------------\")\n",
        "for actual, predicted in zip(y_train[:10], poly_reg_model.predict(poly.transform(X_train))[:10]):\n",
        "    print(f\"  Actual: {actual:.4f}   \\t\\t\\t\\tPredicted: {predicted:.4f}\")\n",
        "\n",
        "print(\"---------------------------------------------------------------------\\n\")\n",
        "\n",
        "# Polynomial Regression - Test Set Predictions (first 10 rows)\n",
        "print(\"\\n  \\033[1mPolynomial Regression - Testing Set Predictions (first 10 rows):\\033[1m\")\n",
        "print(\"---------------------------------------------------------------------\")\n",
        "for actual, predicted in zip(y_test[:10], poly_y_pred[:10]):\n",
        "    print(f\"  Actual: {actual:.4f}   \\t\\t\\t\\tPredicted: {predicted:.4f}\")\n",
        "\n",
        "print(\"---------------------------------------------------------------------\\n\")\n"
      ],
      "metadata": {
        "colab": {
          "base_uri": "https://localhost:8080/"
        },
        "id": "RYWKJVSCT53o",
        "outputId": "bbbc9f16-058c-4bcb-e665-9d3ad225f045"
      },
      "execution_count": null,
      "outputs": [
        {
          "output_type": "stream",
          "name": "stdout",
          "text": [
            "\n",
            "  \u001b[1mPolynomial Regression - Training Set Predictions (first 10 rows):\u001b[1m\n",
            "---------------------------------------------------------------------\n",
            "  Actual: 1.0604   \t\t\t\tPredicted: 1.9735\n",
            "  Actual: 2.4800   \t\t\t\tPredicted: 2.3454\n",
            "  Actual: 1.3229   \t\t\t\tPredicted: 1.6114\n",
            "  Actual: 1.3939   \t\t\t\tPredicted: 1.4929\n",
            "  Actual: 2.1562   \t\t\t\tPredicted: 1.8129\n",
            "  Actual: 3.1500   \t\t\t\tPredicted: 2.7316\n",
            "  Actual: 1.5458   \t\t\t\tPredicted: 1.7634\n",
            "  Actual: 2.7300   \t\t\t\tPredicted: 2.0760\n",
            "  Actual: 3.4595   \t\t\t\tPredicted: 3.6776\n",
            "  Actual: 3.0637   \t\t\t\tPredicted: 2.5827\n",
            "---------------------------------------------------------------------\n",
            "\n",
            "\n",
            "  \u001b[1mPolynomial Regression - Testing Set Predictions (first 10 rows):\u001b[1m\n",
            "---------------------------------------------------------------------\n",
            "  Actual: 2.3056   \t\t\t\tPredicted: 2.4251\n",
            "  Actual: 1.7600   \t\t\t\tPredicted: 1.9301\n",
            "  Actual: 1.5654   \t\t\t\tPredicted: 1.9306\n",
            "  Actual: 1.7986   \t\t\t\tPredicted: 1.8476\n",
            "  Actual: 2.5700   \t\t\t\tPredicted: 2.3004\n",
            "  Actual: 0.9624   \t\t\t\tPredicted: 1.1529\n",
            "  Actual: 1.7671   \t\t\t\tPredicted: 1.7751\n",
            "  Actual: 1.0622   \t\t\t\tPredicted: 1.6089\n",
            "  Actual: 1.7362   \t\t\t\tPredicted: 2.1253\n",
            "  Actual: 3.6118   \t\t\t\tPredicted: 3.7118\n",
            "---------------------------------------------------------------------\n",
            "\n"
          ]
        }
      ]
    },
    {
      "cell_type": "markdown",
      "source": [
        "**Step 3: Hyper-parameter Optimization with Cross-Validation**"
      ],
      "metadata": {
        "id": "Uz-RHU7ruBv8"
      }
    },
    {
      "cell_type": "code",
      "source": [
        "from sklearn.preprocessing import PolynomialFeatures, StandardScaler\n",
        "from sklearn.linear_model import LinearRegression\n",
        "from sklearn.pipeline import Pipeline\n",
        "from sklearn.model_selection import RandomizedSearchCV\n",
        "from scipy.stats import randint\n",
        "\n",
        "# Define the Polynomial Regression pipeline\n",
        "poly_pipeline = Pipeline([\n",
        "    ('poly', PolynomialFeatures()),  # Polynomial transformation\n",
        "    ('scaler', StandardScaler()),    # Standardize features\n",
        "    ('regressor', LinearRegression())  # Linear regression model\n",
        "])\n",
        "\n",
        "# Define hyperparameter distributions\n",
        "poly_params = {\n",
        "    'poly__degree': randint(1, 5),  # Tune polynomial degree between 1 and 5\n",
        "    'poly__interaction_only': [True, False],  # Include/exclude interaction terms\n",
        "}\n",
        "\n",
        "# Perform Randomized Search CV\n",
        "poly_search = RandomizedSearchCV(poly_pipeline, poly_params, n_iter=10, scoring='r2', cv=5, random_state=42, n_jobs=-1)\n",
        "poly_search.fit(X_train, y_train)\n",
        "\n",
        "# Get the best model\n",
        "poly_best = poly_search.best_estimator_\n",
        "\n",
        "# Output the best hyperparameters\n",
        "print(\"Best Hyperparameters for Polynomial Regression:\", poly_search.best_params_)\n"
      ],
      "metadata": {
        "colab": {
          "base_uri": "https://localhost:8080/"
        },
        "id": "4uV1AZt3X6oZ",
        "outputId": "2654d32d-0d82-44d2-f120-300f999c660b"
      },
      "execution_count": null,
      "outputs": [
        {
          "output_type": "stream",
          "name": "stdout",
          "text": [
            "Best Hyperparameters for Polynomial Regression: {'poly__degree': 3, 'poly__interaction_only': True}\n"
          ]
        }
      ]
    },
    {
      "cell_type": "markdown",
      "source": [
        "**Step 4: FEATURE SELECTION**"
      ],
      "metadata": {
        "id": "_VRtWEeTuHwb"
      }
    },
    {
      "cell_type": "code",
      "source": [
        "from sklearn.feature_selection import SelectKBest, f_regression\n",
        "\n",
        "# Apply f_regression for feature selection\n",
        "selector = SelectKBest(score_func=f_regression, k='all')  # 'all' keeps all features for ranking\n",
        "X_selected = selector.fit_transform(X, y)\n",
        "\n",
        "# Get feature scores\n",
        "feature_scores = pd.DataFrame({'Feature': features, 'F-Score': selector.scores_})\n",
        "feature_scores = feature_scores.sort_values(by='F-Score', ascending=False)\n",
        "\n",
        "# Display feature importance\n",
        "print(feature_scores)\n",
        "print(\"\\n\\033[3mNOTE: Feature Importance Ranking (Higher F-score = More Important):\\033[0m\")\n",
        "\n",
        "# Select top k features (e.g., best 5)\n",
        "top_k = 5\n",
        "selected_features = feature_scores.nlargest(top_k, 'F-Score')['Feature'].tolist()\n",
        "print(f\"\\nTop {top_k} Selected Features: {selected_features}\")"
      ],
      "metadata": {
        "colab": {
          "base_uri": "https://localhost:8080/"
        },
        "id": "gJP3YIrjYL8o",
        "outputId": "72aee8dc-1545-47ba-a865-91c87987d76e"
      },
      "execution_count": null,
      "outputs": [
        {
          "output_type": "stream",
          "name": "stdout",
          "text": [
            "           Feature    F-Score\n",
            "0            State  63.083273\n",
            "3       Production  59.369405\n",
            "4  Annual_Rainfall  18.898475\n",
            "1           Season   8.579204\n",
            "2             Area   1.391747\n",
            "5       Fertilizer   0.001331\n",
            "6        Pesticide   0.000517\n",
            "\n",
            "\u001b[3mNOTE: Feature Importance Ranking (Higher F-score = More Important):\u001b[0m\n",
            "\n",
            "Top 5 Selected Features: ['State', 'Production', 'Annual_Rainfall', 'Season', 'Area']\n"
          ]
        }
      ]
    },
    {
      "cell_type": "code",
      "source": [
        "import numpy as np\n",
        "import pandas as pd\n",
        "from sklearn.model_selection import train_test_split\n",
        "from sklearn.tree import DecisionTreeClassifier\n",
        "from sklearn.naive_bayes import GaussianNB\n",
        "from sklearn.metrics import accuracy_score, classification_report\n",
        "\n",
        "# Define the selected top features and target variable\n",
        "selected_features = ['State',\n",
        "                     'Production',\n",
        "                     'Annual_Rainfall',\n",
        "                     'Season',\n",
        "                     'Area',\n",
        "                     'Fertilizer',\n",
        "                     'Pesticide'\n",
        "                     ]\n",
        "target = 'Yield'\n",
        "\n",
        "# Extract feature matrix (X) and target variable (y)\n",
        "X = rice_yield_df[selected_features].values\n",
        "y = rice_yield_df[target].values\n",
        "\n",
        "# Split the dataset into training (80%) and testing (20%) data\n",
        "X_train, X_test, y_train, y_test = train_test_split(X, y, test_size=0.2, random_state=42)"
      ],
      "metadata": {
        "id": "WX1FNfKFYNVf"
      },
      "execution_count": null,
      "outputs": []
    },
    {
      "cell_type": "markdown",
      "source": [
        "**Step 5: Final Model with selected Features and best Hyperparameters**"
      ],
      "metadata": {
        "id": "QoYUJ0H2uMqY"
      }
    },
    {
      "cell_type": "code",
      "source": [
        "#             ~FINAL POLYNOMIAL REGRESSION MODEL~\n",
        "\n",
        "from sklearn.preprocessing import PolynomialFeatures\n",
        "from sklearn.linear_model import LinearRegression\n",
        "from sklearn.pipeline import Pipeline\n",
        "from sklearn.metrics import mean_squared_error, r2_score\n",
        "\n",
        "# Retrieve the best polynomial model from RandomizedSearchCV\n",
        "poly_model_final = poly_best\n",
        "\n",
        "# Training the Polynomial Regression model\n",
        "poly_model_final.fit(X_train, y_train)\n",
        "\n",
        "# Testing the Polynomial Regression model\n",
        "y_pred_poly_test = poly_model_final.predict(X_test)\n",
        "y_pred_poly_train = poly_model_final.predict(X_train)\n",
        "\n",
        "# Evaluating the Polynomial Regression model\n",
        "print(\"\\n\\033[1mPolynomial Regression Final Model Results:\\033[0m\")\n",
        "print(\"----------------------------------------------------\")\n",
        "\n",
        "mse_poly_test = mean_squared_error(y_test, y_pred_poly_test)\n",
        "r2_poly_test = r2_score(y_test, y_pred_poly_test)\n",
        "mse_poly_train = mean_squared_error(y_train, y_pred_poly_train)\n",
        "r2_poly_train = r2_score(y_train, y_pred_poly_train)\n",
        "\n",
        "print(f\"Testing Set Mean Squared Error: {mse_poly_test}\")\n",
        "print(f\"Testing Set R² Score: {r2_poly_test}\")\n",
        "print()\n",
        "print(f\"Training Set Mean Squared Error: {mse_poly_train}\")\n",
        "print(f\"Training Set R² Score: {r2_poly_train}\")\n",
        "\n",
        "print(\"----------------------------------------------------\\n\")\n",
        "\n",
        "# Print first 10 actual vs predicted values for training set\n",
        "print(\"\\n\\033[1mPolynomial Regression - Training Set Predictions (first 10 rows):\\033[0m\")\n",
        "print(\"----------------------------------------------------------------\")\n",
        "for actual, predicted in zip(y_train[:10], y_pred_poly_train[:10]):\n",
        "    print(f\"Actual: {actual}, ->\\t\\tPredicted: {predicted}\")\n",
        "print(\"----------------------------------------------------------------\\n\")\n",
        "\n",
        "# Print first 10 actual vs predicted values for test set\n",
        "print(\"\\n\\033[1mPolynomial Regression - Test Set Predictions (first 10 rows):\\033[0m\")\n",
        "print(\"----------------------------------------------------------------\")\n",
        "for actual, predicted in zip(y_test[:10], y_pred_poly_test[:10]):\n",
        "    print(f\"Actual: {actual}, ->\\t\\tPredicted: {predicted}\")\n",
        "\n",
        "print(\"----------------------------------------------------------------\\n\")\n"
      ],
      "metadata": {
        "colab": {
          "base_uri": "https://localhost:8080/"
        },
        "id": "5JU1jDCcYT3m",
        "outputId": "bed91277-aeec-42ca-994d-07d52bb7836b"
      },
      "execution_count": null,
      "outputs": [
        {
          "output_type": "stream",
          "name": "stdout",
          "text": [
            "\n",
            "\u001b[1mPolynomial Regression Final Model Results:\u001b[0m\n",
            "----------------------------------------------------\n",
            "Testing Set Mean Squared Error: 0.18162773444007108\n",
            "Testing Set R² Score: 0.6604862831800452\n",
            "\n",
            "Training Set Mean Squared Error: 0.28125482006809793\n",
            "Training Set R² Score: 0.5805618175147531\n",
            "----------------------------------------------------\n",
            "\n",
            "\n",
            "\u001b[1mPolynomial Regression - Training Set Predictions (first 10 rows):\u001b[0m\n",
            "----------------------------------------------------------------\n",
            "Actual: 1.060434783, ->\t\tPredicted: 1.7620741314163975\n",
            "Actual: 2.48, ->\t\tPredicted: 2.2008086296765397\n",
            "Actual: 1.322916667, ->\t\tPredicted: 1.3987859545399728\n",
            "Actual: 1.393888889, ->\t\tPredicted: 1.2998860600293152\n",
            "Actual: 2.15625, ->\t\tPredicted: 2.054389824865413\n",
            "Actual: 3.15, ->\t\tPredicted: 2.7293224887741907\n",
            "Actual: 1.545789474, ->\t\tPredicted: 1.637979492741734\n",
            "Actual: 2.73, ->\t\tPredicted: 2.162923824754208\n",
            "Actual: 3.45952381, ->\t\tPredicted: 3.6782667414375414\n",
            "Actual: 3.063703704, ->\t\tPredicted: 2.5508475753626136\n",
            "----------------------------------------------------------------\n",
            "\n",
            "\n",
            "\u001b[1mPolynomial Regression - Test Set Predictions (first 10 rows):\u001b[0m\n",
            "----------------------------------------------------------------\n",
            "Actual: 2.305555556, ->\t\tPredicted: 2.4145106532512575\n",
            "Actual: 1.76, ->\t\tPredicted: 2.1939586341425423\n",
            "Actual: 1.565384615, ->\t\tPredicted: 2.0864318427955753\n",
            "Actual: 1.798571429, ->\t\tPredicted: 1.951805057403425\n",
            "Actual: 2.57, ->\t\tPredicted: 2.2201044826642824\n",
            "Actual: 0.962413793, ->\t\tPredicted: 1.113466514126288\n",
            "Actual: 1.767142857, ->\t\tPredicted: 1.7836918361478613\n",
            "Actual: 1.062222222, ->\t\tPredicted: 1.000694239383322\n",
            "Actual: 1.736153846, ->\t\tPredicted: 2.109848964649811\n",
            "Actual: 3.611785714, ->\t\tPredicted: 4.3653884313387845\n",
            "----------------------------------------------------------------\n",
            "\n"
          ]
        }
      ]
    },
    {
      "cell_type": "markdown",
      "source": [
        "# Support Vector Regression (SVR)\n"
      ],
      "metadata": {
        "id": "iT6UN1UNUfeL"
      }
    },
    {
      "cell_type": "markdown",
      "source": [
        "**Step 1: BUILD MODEL**"
      ],
      "metadata": {
        "id": "Z8IrKFnEulH_"
      }
    },
    {
      "cell_type": "code",
      "source": [
        "from sklearn.svm import SVR\n",
        "\n",
        "# Initialize SVR model\n",
        "svr_model = SVR(kernel='rbf')  # Radial Basis Function kernel\n",
        "\n",
        "# Train the model\n",
        "svr_model.fit(X_train, y_train)\n",
        "\n",
        "# Predict on test data\n",
        "svr_y_pred = svr_model.predict(X_test)"
      ],
      "metadata": {
        "id": "3fE9dRcTUhXK"
      },
      "execution_count": null,
      "outputs": []
    },
    {
      "cell_type": "markdown",
      "source": [
        "**Step 2: EVALUTE THE MODEL WITH**\n",
        "\n",
        "\n",
        "\n",
        "\n",
        "\n",
        "1.   Mean Absolute Error (MAE)\n",
        "2.   Root Mean Squared Error (RMSE)\n",
        "3.   R-Squared (R²)\n",
        "\n"
      ],
      "metadata": {
        "id": "myi47XF0upN2"
      }
    },
    {
      "cell_type": "code",
      "source": [
        "# Evaluate SVR model\n",
        "svr_mse = mean_squared_error(y_test, svr_y_pred)\n",
        "svr_rmse = np.sqrt(mean_squared_error(y_test, svr_y_pred))\n",
        "svr_r2 = r2_score(y_test, svr_y_pred)\n",
        "\n",
        "print(f\"\\033[1mSVR Model Performance:\\033[0m\\n MSE: {svr_mse}\\n RMSE: {svr_rmse}\\n R²: {svr_r2}\")"
      ],
      "metadata": {
        "colab": {
          "base_uri": "https://localhost:8080/"
        },
        "id": "3dKXQ3vfUFuf",
        "outputId": "68065a58-36e6-491b-d7d2-bb72d6a9d4d9"
      },
      "execution_count": null,
      "outputs": [
        {
          "output_type": "stream",
          "name": "stdout",
          "text": [
            "\u001b[1mSVR Model Performance:\u001b[0m\n",
            " MSE: 0.49150400746462136\n",
            " RMSE: 0.7010734679508428\n",
            " R²: 0.08123969656585295\n"
          ]
        }
      ]
    },
    {
      "cell_type": "markdown",
      "source": [
        "**Comparing the testing and training's actual and prediction values (y)**"
      ],
      "metadata": {
        "id": "Rk7OaDGeurY7"
      }
    },
    {
      "cell_type": "code",
      "source": [
        "#             ~SVR MODEL PREDICTIONS~\n",
        "\n",
        "# SVR - Training Set Predictions (first 10 rows)\n",
        "print(\"\\n\\033[1mSVR - Training Set Predictions (first 10 rows):\\033[0m\")\n",
        "print(\"------------------------------------------------------\")\n",
        "for actual, predicted in zip(y_train[:10], svr_model.predict(X_train)[:10]):\n",
        "    print(f\"Actual: {actual:.4f}  \\t->\\tPredicted: {predicted:.4f}\")\n",
        "print(\"------------------------------------------------------\\n\")\n",
        "\n",
        "# SVR - Test Set Predictions (first 10 rows)\n",
        "print(\"\\n\\033[1mSVR - Test Set Predictions (first 10 rows):\\033[0m\")\n",
        "print(\"------------------------------------------------------\")\n",
        "for actual, predicted in zip(y_test[:10], svr_y_pred[:10]):\n",
        "    print(f\"Actual: {actual:.4f}  \\t->\\tPredicted: {predicted:.4f}\")\n",
        "print(\"------------------------------------------------------\\n\")\n"
      ],
      "metadata": {
        "colab": {
          "base_uri": "https://localhost:8080/"
        },
        "id": "aDHdbpe6Ui0I",
        "outputId": "90e1ad51-62cc-4e20-9561-4e726344a576"
      },
      "execution_count": null,
      "outputs": [
        {
          "output_type": "stream",
          "name": "stdout",
          "text": [
            "\n",
            "\u001b[1mSVR - Training Set Predictions (first 10 rows):\u001b[0m\n",
            "------------------------------------------------------\n",
            "Actual: 1.0604  \t->\tPredicted: 2.1810\n",
            "Actual: 2.4800  \t->\tPredicted: 2.2775\n",
            "Actual: 1.3229  \t->\tPredicted: 1.8678\n",
            "Actual: 1.3939  \t->\tPredicted: 2.0086\n",
            "Actual: 2.1562  \t->\tPredicted: 2.3544\n",
            "Actual: 3.1500  \t->\tPredicted: 2.3632\n",
            "Actual: 1.5458  \t->\tPredicted: 1.8405\n",
            "Actual: 2.7300  \t->\tPredicted: 2.3797\n",
            "Actual: 3.4595  \t->\tPredicted: 2.7010\n",
            "Actual: 3.0637  \t->\tPredicted: 2.0071\n",
            "------------------------------------------------------\n",
            "\n",
            "\n",
            "\u001b[1mSVR - Test Set Predictions (first 10 rows):\u001b[0m\n",
            "------------------------------------------------------\n",
            "Actual: 2.3056  \t->\tPredicted: 2.1938\n",
            "Actual: 1.7600  \t->\tPredicted: 2.3658\n",
            "Actual: 1.5654  \t->\tPredicted: 2.2605\n",
            "Actual: 1.7986  \t->\tPredicted: 2.2487\n",
            "Actual: 2.5700  \t->\tPredicted: 2.3570\n",
            "Actual: 0.9624  \t->\tPredicted: 1.8705\n",
            "Actual: 1.7671  \t->\tPredicted: 2.2567\n",
            "Actual: 1.0622  \t->\tPredicted: 1.8956\n",
            "Actual: 1.7362  \t->\tPredicted: 2.0037\n",
            "Actual: 3.6118  \t->\tPredicted: 2.7341\n",
            "------------------------------------------------------\n",
            "\n"
          ]
        }
      ]
    },
    {
      "cell_type": "markdown",
      "source": [
        "**Step 3: Hyper-parameter Optimization with Cross-Validation**"
      ],
      "metadata": {
        "id": "wA1CS1XSuwf1"
      }
    },
    {
      "cell_type": "code",
      "source": [
        "#NOTE: took over 5 hours and was still executing. So, i stopped the code and tuned manually.\n",
        "\n",
        "from sklearn.model_selection import RandomizedSearchCV\n",
        "from scipy.stats import uniform, randint\n",
        "\n",
        "# Initialize SVR model\n",
        "svr = SVR()\n",
        "\n",
        "# Define hyperparameter distribution, focusing on C and epsilon\n",
        "svr_params = {\n",
        "    'C': uniform(0.1, 100),  # Regularization parameter (start with reasonable range)\n",
        "    'epsilon': uniform(0.01, 1),  # Epsilon in the loss function\n",
        "    'gamma': ['scale', 'auto'],  # Kernel coefficient (simplify gamma options)\n",
        "    'kernel': ['rbf', 'linear']  # Kernel type (focus on 'rbf' and 'linear' kernels)\n",
        "}\n",
        "\n",
        "# Perform Randomized Search CV\n",
        "svr_search = RandomizedSearchCV(svr, svr_params, n_iter=1, scoring='r2', cv=5, random_state=42, n_jobs=-1)\n",
        "svr_search.fit(X_train, y_train)\n",
        "\n",
        "# Get the best model\n",
        "svr_best = svr_search.best_estimator_\n",
        "\n",
        "# Output the best hyperparameters\n",
        "print(\"Best Hyperparameters for Support Vector Regressor:\", svr_search.best_params_)"
      ],
      "metadata": {
        "id": "UZqqBHFRU9T5"
      },
      "execution_count": null,
      "outputs": []
    },
    {
      "cell_type": "markdown",
      "source": [
        "**Step 4: FEATURE SELECTION**"
      ],
      "metadata": {
        "id": "KCAW8FO8u182"
      }
    },
    {
      "cell_type": "code",
      "source": [
        "from sklearn.feature_selection import SelectKBest, f_regression\n",
        "\n",
        "# Apply f_regression for feature selection\n",
        "selector = SelectKBest(score_func=f_regression, k='all')  # 'all' keeps all features for ranking\n",
        "X_selected = selector.fit_transform(X, y)\n",
        "\n",
        "# Get feature scores\n",
        "feature_scores = pd.DataFrame({'Feature': features, 'F-Score': selector.scores_})\n",
        "feature_scores = feature_scores.sort_values(by='F-Score', ascending=False)\n",
        "\n",
        "# Display feature importance\n",
        "print(feature_scores)\n",
        "print(\"\\n\\033[3mNOTE: Feature Importance Ranking (Higher F-score = More Important):\\033[0m\")\n",
        "\n",
        "# Select top k features (e.g., best 5)\n",
        "top_k = 5\n",
        "selected_features = feature_scores.nlargest(top_k, 'F-Score')['Feature'].tolist()\n",
        "print(f\"\\nTop {top_k} Selected Features: {selected_features}\")"
      ],
      "metadata": {
        "colab": {
          "base_uri": "https://localhost:8080/"
        },
        "id": "Y7UJN24XVFCg",
        "outputId": "0bb6e0a7-6bb0-477a-949c-a9dc1d5d5a0f"
      },
      "execution_count": null,
      "outputs": [
        {
          "output_type": "stream",
          "name": "stdout",
          "text": [
            "           Feature    F-Score\n",
            "0            State  63.083273\n",
            "1           Season  59.369405\n",
            "2             Area  18.898475\n",
            "3       Production   8.579204\n",
            "4  Annual_Rainfall   1.391747\n",
            "5       Fertilizer   0.001331\n",
            "6        Pesticide   0.000517\n",
            "\n",
            "\u001b[3mNOTE: Feature Importance Ranking (Higher F-score = More Important):\u001b[0m\n",
            "\n",
            "Top 5 Selected Features: ['State', 'Season', 'Area', 'Production', 'Annual_Rainfall']\n"
          ]
        }
      ]
    },
    {
      "cell_type": "code",
      "source": [
        "import numpy as np\n",
        "import pandas as pd\n",
        "from sklearn.model_selection import train_test_split\n",
        "from sklearn.tree import DecisionTreeClassifier\n",
        "from sklearn.naive_bayes import GaussianNB\n",
        "from sklearn.metrics import accuracy_score, classification_report\n",
        "\n",
        "# Define the selected top features and target variable\n",
        "selected_features = ['State',\n",
        "                     'Production',\n",
        "                     'Annual_Rainfall',\n",
        "                     'Season',\n",
        "                     'Area']\n",
        "target = 'Yield'\n",
        "\n",
        "# Extract feature matrix (X) and target variable (y)\n",
        "X = rice_yield_df[selected_features].values\n",
        "y = rice_yield_df[target].values\n",
        "\n",
        "# Split the dataset into training (80%) and testing (20%) data\n",
        "X_train, X_test, y_train, y_test = train_test_split(X, y, test_size=0.2, random_state=42)"
      ],
      "metadata": {
        "id": "s71e8URWVMOe"
      },
      "execution_count": null,
      "outputs": []
    },
    {
      "cell_type": "markdown",
      "source": [
        "**Step 5: Final Model with selected Features and best Hyperparameters**"
      ],
      "metadata": {
        "id": "vtoKhl3bvDHU"
      }
    },
    {
      "cell_type": "code",
      "source": [
        "# ---------------------------- Final SVR Model ---------------------------- #\n",
        "\n",
        "# Create the SVR model with the best hyperparameters\n",
        "svr_model_final = SVR(\n",
        "    C=90.96584841970366,\n",
        "    epsilon=0.16601864044243653,\n",
        "    gamma='scale',\n",
        "    kernel='rbf'\n",
        ")\n",
        "\n",
        "# Training the SVR model\n",
        "svr_model_final.fit(X_train, y_train)\n",
        "\n",
        "# Testing the SVR Model\n",
        "y_pred_svr_test = svr_model_final.predict(X_test)\n",
        "y_pred_svr_train = svr_model_final.predict(X_train)\n",
        "\n",
        "#             ~SVR FINAL MODEL RESULTS~\n",
        "\n",
        "print(\"\\n\\033[1mSVR Final Model Results:\\033[0m\")\n",
        "print(\"----------------------------------------------------------\")\n",
        "mse_svr_test = mean_squared_error(y_test, y_pred_svr_test)\n",
        "r2_svr_test = r2_score(y_test, y_pred_svr_test)\n",
        "mse_svr_train = mean_squared_error(y_train, y_pred_svr_train)\n",
        "r2_svr_train = r2_score(y_train, y_pred_svr_train)\n",
        "\n",
        "print(f\"Testing Set Mean Squared Error: {mse_svr_test}\")\n",
        "print(f\"Testing Set R² Score: {r2_svr_test}\")\n",
        "\n",
        "print(f\"Training Set Mean Squared Error: {mse_svr_train}\")\n",
        "print(f\"Training Set R² Score: {r2_svr_train}\")\n",
        "\n",
        "print(\"---------------------------------------------------------\\n\")\n",
        "\n",
        "# Print first 10 actual vs predicted values for training set\n",
        "print(\"\\n\\033[1mSVR - Training Set Predictions (first 10 rows):\\033[0m\")\n",
        "print(\"------------------------------------------------------\")\n",
        "for actual, predicted in zip(y_train[:10], y_pred_svr_train[:10]):\n",
        "    print(f\"Actual: {actual:.4f}  ->\\t\\tPredicted: {predicted:.4f}\")\n",
        "print(\"------------------------------------------------------\\n\")\n",
        "\n",
        "# Print first 10 actual vs predicted values for test set\n",
        "print(\"\\n\\033[1mSVR - Test Set Predictions (first 10 rows):\\033[0m\")\n",
        "print(\"----------------------------------------------------\")\n",
        "for actual, predicted in zip(y_test[:10], y_pred_svr_test[:10]):\n",
        "    print(f\"Actual: {actual:.4f}  ->\\t\\tPredicted: {predicted:.4f}\")\n",
        "print(\"----------------------------------------------------\\n\")\n"
      ],
      "metadata": {
        "colab": {
          "base_uri": "https://localhost:8080/"
        },
        "id": "4uwe5zICVv6s",
        "outputId": "85ea81a0-3b62-4c96-c1c5-72463fe6025e"
      },
      "execution_count": null,
      "outputs": [
        {
          "output_type": "stream",
          "name": "stdout",
          "text": [
            "\n",
            "\u001b[1mSVR Final Model Results:\u001b[0m\n",
            "----------------------------------------------------------\n",
            "Testing Set Mean Squared Error: 0.15630693962295575\n",
            "Testing Set R² Score: 0.7078180257010687\n",
            "Training Set Mean Squared Error: 0.2720690422106326\n",
            "Training Set R² Score: 0.5942606617454604\n",
            "---------------------------------------------------------\n",
            "\n",
            "\n",
            "\u001b[1mSVR - Training Set Predictions (first 10 rows):\u001b[0m\n",
            "------------------------------------------------------\n",
            "Actual: 1.0604  ->\t\tPredicted: 1.7311\n",
            "Actual: 2.4800  ->\t\tPredicted: 2.3116\n",
            "Actual: 1.3229  ->\t\tPredicted: 1.1364\n",
            "Actual: 1.3939  ->\t\tPredicted: 1.3873\n",
            "Actual: 2.1562  ->\t\tPredicted: 2.3036\n",
            "Actual: 3.1500  ->\t\tPredicted: 2.3392\n",
            "Actual: 1.5458  ->\t\tPredicted: 1.6472\n",
            "Actual: 2.7300  ->\t\tPredicted: 2.3301\n",
            "Actual: 3.4595  ->\t\tPredicted: 3.3304\n",
            "Actual: 3.0637  ->\t\tPredicted: 2.5932\n",
            "------------------------------------------------------\n",
            "\n",
            "\n",
            "\u001b[1mSVR - Test Set Predictions (first 10 rows):\u001b[0m\n",
            "----------------------------------------------------\n",
            "Actual: 2.3056  ->\t\tPredicted: 2.2333\n",
            "Actual: 1.7600  ->\t\tPredicted: 2.3035\n",
            "Actual: 1.5654  ->\t\tPredicted: 2.1669\n",
            "Actual: 1.7986  ->\t\tPredicted: 2.0924\n",
            "Actual: 2.5700  ->\t\tPredicted: 2.3849\n",
            "Actual: 0.9624  ->\t\tPredicted: 0.9064\n",
            "Actual: 1.7671  ->\t\tPredicted: 2.0807\n",
            "Actual: 1.0622  ->\t\tPredicted: 0.7713\n",
            "Actual: 1.7362  ->\t\tPredicted: 2.1378\n",
            "Actual: 3.6118  ->\t\tPredicted: 3.5359\n",
            "----------------------------------------------------\n",
            "\n"
          ]
        }
      ]
    },
    {
      "cell_type": "markdown",
      "source": [
        "**Conclusion**\n",
        "\n",
        "1. Model Performance:\n",
        "\n",
        "    --> Both model showed a Good fit in Testing set with 0.707 in SVR model and 0.660 in Polynomial Regression in R-squared value. And slightly less in training set. MSE value of both models were very good, giving around 0.1 and 0.2 score.\n",
        "    \n",
        "\n",
        "2. Impact of Methods:\n",
        "\n",
        "    -->  The best hyperparameters for Polynomial Regression ('poly__degree': 3, 'poly__interaction_only': True) brought minor changes to stability while the SVR (C=90.96584841970366, epsilon=0.16601864044243653, gamma='scale', kernel='rbf') were fitted manually, and brought decent changes.\n",
        "    \n",
        "\n",
        "3. Insights and Future Directions:\n",
        "\n",
        "    --> Many other models could be explored for this dataset. Showing that the model performs well in unseen data more, but could be slightly underfitted due to less feature or simple model."
      ],
      "metadata": {
        "id": "PaqGE44z9Nax"
      }
    }
  ]
}