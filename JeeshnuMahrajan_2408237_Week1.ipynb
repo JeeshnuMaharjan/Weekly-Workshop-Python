{
  "nbformat": 4,
  "nbformat_minor": 0,
  "metadata": {
    "colab": {
      "provenance": []
    },
    "kernelspec": {
      "name": "python3",
      "display_name": "Python 3"
    },
    "language_info": {
      "name": "python"
    }
  },
  "cells": [
    {
      "cell_type": "code",
      "execution_count": null,
      "metadata": {
        "colab": {
          "base_uri": "https://localhost:8080/"
        },
        "id": "jP6QkGMdOSaL",
        "outputId": "c816ca30-4ebb-4f97-a7ea-059c54d20ca9"
      },
      "outputs": [
        {
          "output_type": "stream",
          "name": "stdout",
          "text": [
            "[[0. 0.]\n",
            " [0. 0.]]\n"
          ]
        }
      ],
      "source": [
        "# 4.1 ARRAY CREATION\n",
        "# Question 1\n",
        "import numpy as np\n",
        "\n",
        "# initialize a 2x2 empty array\n",
        "array = np.empty((2, 2))\n",
        "print(array)"
      ]
    },
    {
      "cell_type": "code",
      "source": [
        "# Question 2\n",
        "import numpy as np\n",
        "\n",
        "# initialize a 2x2 empty array\n",
        "array = np.empty((4, 2))\n",
        "print(array)"
      ],
      "metadata": {
        "colab": {
          "base_uri": "https://localhost:8080/"
        },
        "id": "SvAa5T-XOyAX",
        "outputId": "015385a7-5e89-4d25-a9d8-106102571034"
      },
      "execution_count": null,
      "outputs": [
        {
          "output_type": "stream",
          "name": "stdout",
          "text": [
            "[[0. 0.]\n",
            " [0. 0.]\n",
            " [0. 0.]\n",
            " [0. 0.]]\n"
          ]
        }
      ]
    },
    {
      "cell_type": "code",
      "source": [
        "# Question 3\n",
        "import numpy as np\n",
        "\n",
        "shape = (2, 2)\n",
        "fill_value = 7\n",
        "\n",
        "array = np.full(shape, fill_value)\n",
        "print(array)\n"
      ],
      "metadata": {
        "colab": {
          "base_uri": "https://localhost:8080/"
        },
        "id": "ZtFg3nGjO4pe",
        "outputId": "f1f39c3a-eb96-47fd-867d-7c89a2279ae9"
      },
      "execution_count": null,
      "outputs": [
        {
          "output_type": "stream",
          "name": "stdout",
          "text": [
            "[[7 7]\n",
            " [7 7]]\n"
          ]
        }
      ]
    },
    {
      "cell_type": "code",
      "source": [
        "# Question 4\n",
        "import numpy as np\n",
        "\n",
        "array = np.zeros_like(np.full((2,2), 7))\n",
        "print(array)"
      ],
      "metadata": {
        "colab": {
          "base_uri": "https://localhost:8080/"
        },
        "id": "06faRJT-PbNV",
        "outputId": "386de7bc-6c21-4820-e770-22a39471882f"
      },
      "execution_count": null,
      "outputs": [
        {
          "output_type": "stream",
          "name": "stdout",
          "text": [
            "[[0 0]\n",
            " [0 0]]\n"
          ]
        }
      ]
    },
    {
      "cell_type": "code",
      "source": [
        "# Question 5\n",
        "import numpy as np\n",
        "\n",
        "array = np.ones_like(np.full((2,2), 7))\n",
        "print(array)"
      ],
      "metadata": {
        "colab": {
          "base_uri": "https://localhost:8080/"
        },
        "id": "_-D6ElUuQImZ",
        "outputId": "2a606f25-12f7-4135-9558-e478b6e21656"
      },
      "execution_count": null,
      "outputs": [
        {
          "output_type": "stream",
          "name": "stdout",
          "text": [
            "[[1 1]\n",
            " [1 1]]\n"
          ]
        }
      ]
    },
    {
      "cell_type": "code",
      "source": [
        "# Question 6\n",
        "import numpy as np\n",
        "\n",
        "new_list = [1, 2, 3, 4]\n",
        "\n",
        "array = np.array(new_list)\n",
        "print(array)\n"
      ],
      "metadata": {
        "colab": {
          "base_uri": "https://localhost:8080/"
        },
        "id": "mTMOB8anQxl_",
        "outputId": "af023eb7-5112-42fe-dbdb-3cff3acff4b7"
      },
      "execution_count": null,
      "outputs": [
        {
          "output_type": "stream",
          "name": "stdout",
          "text": [
            "[1 2 3 4]\n"
          ]
        }
      ]
    },
    {
      "cell_type": "code",
      "source": [
        "# 4.1.1 ARRAY MANIPULATION: NUMERICAL RANGES AND ARRAY INDEXING\n",
        "# Question 1\n",
        "import numpy as np\n",
        "\n",
        "array = np.arange(10, 50) # array ranging from 10 to 49\n",
        "print(array)"
      ],
      "metadata": {
        "colab": {
          "base_uri": "https://localhost:8080/"
        },
        "id": "BEpDF1-sSR3z",
        "outputId": "9e471d39-03e5-43f8-c02b-f4aa8326ea26"
      },
      "execution_count": null,
      "outputs": [
        {
          "output_type": "stream",
          "name": "stdout",
          "text": [
            "[10 11 12 13 14 15 16 17 18 19 20 21 22 23 24 25 26 27 28 29 30 31 32 33\n",
            " 34 35 36 37 38 39 40 41 42 43 44 45 46 47 48 49]\n"
          ]
        }
      ]
    },
    {
      "cell_type": "code",
      "source": [
        "# Question 2\n",
        "import numpy as np\n",
        "\n",
        "# Creating an array ranging from 0 to 8\n",
        "array = np.arange(9)\n",
        "\n",
        "# Reshaping the array into 3x3 matrix\n",
        "matrix = array.reshape(3, 3)\n",
        "\n",
        "print(matrix)"
      ],
      "metadata": {
        "colab": {
          "base_uri": "https://localhost:8080/"
        },
        "id": "H-GdnITUS7ZZ",
        "outputId": "67099771-8d26-420d-d423-3d930636abf3"
      },
      "execution_count": null,
      "outputs": [
        {
          "output_type": "stream",
          "name": "stdout",
          "text": [
            "[[0 1 2]\n",
            " [3 4 5]\n",
            " [6 7 8]]\n"
          ]
        }
      ]
    },
    {
      "cell_type": "code",
      "source": [
        "# Question 3\n",
        "import numpy as np\n",
        "\n",
        "# Creating a 3x3 identity matrix\n",
        "identity_matrix = np.eye(3, dtype=int)\n",
        "print(identity_matrix)"
      ],
      "metadata": {
        "colab": {
          "base_uri": "https://localhost:8080/"
        },
        "id": "35ADQfLvmEo6",
        "outputId": "164e8cb8-4c56-45a7-eeed-a596a21666a3"
      },
      "execution_count": null,
      "outputs": [
        {
          "output_type": "stream",
          "name": "stdout",
          "text": [
            "[[1 0 0]\n",
            " [0 1 0]\n",
            " [0 0 1]]\n"
          ]
        }
      ]
    },
    {
      "cell_type": "code",
      "source": [
        "# Question 4\n",
        "import numpy as np\n",
        "\n",
        "# Creating random array of size 30\n",
        "random_array = np.random.random(30)\n",
        "\n",
        "# function (np.mean) for giving mean of the array\n",
        "mean_value = np.mean(random_array) # mean_value = random_array.mean()\n",
        "\n",
        "print(\"random array:\\n\", random_array)\n",
        "print()\n",
        "print(\"mean of the arrray: \", mean_value)"
      ],
      "metadata": {
        "colab": {
          "base_uri": "https://localhost:8080/"
        },
        "id": "h9aIeddZTg9L",
        "outputId": "369773c5-f825-49de-f014-344c942bfb1b"
      },
      "execution_count": null,
      "outputs": [
        {
          "output_type": "stream",
          "name": "stdout",
          "text": [
            "random array:\n",
            " [0.57004471 0.01876282 0.63821869 0.94520247 0.62583944 0.41759282\n",
            " 0.28419643 0.34292411 0.70271013 0.22028956 0.29484472 0.44918593\n",
            " 0.62688394 0.5307643  0.54715896 0.96736231 0.52098491 0.8237567\n",
            " 0.6115497  0.21299256 0.15050082 0.05063516 0.60559984 0.25347612\n",
            " 0.85633217 0.84014918 0.782581   0.52553604 0.58610823 0.7130502 ]\n",
            "\n",
            "mean of the arrray:  0.5238411336042729\n"
          ]
        }
      ]
    },
    {
      "cell_type": "code",
      "source": [
        "# Question 5\n",
        "import numpy as np\n",
        "\n",
        "random_array = np.random.random((10, 10))\n",
        "\n",
        "# Finding min and max value\n",
        "min_value = random_array.min()\n",
        "max_value = random_array.max()\n",
        "\n",
        "print(\"Random 10x10 Array:\\n\", random_array)\n",
        "print()\n",
        "print(\"min value = \", min_value)\n",
        "print(\"max value = \", max_value)\n"
      ],
      "metadata": {
        "colab": {
          "base_uri": "https://localhost:8080/"
        },
        "id": "ABxzgMOAUoB6",
        "outputId": "d9ec0e87-789c-4d33-d0d0-837749425b42"
      },
      "execution_count": null,
      "outputs": [
        {
          "output_type": "stream",
          "name": "stdout",
          "text": [
            "Random 10x10 Array:\n",
            " [[0.8314415  0.7542168  0.32914145 0.78775195 0.45616236 0.37010112\n",
            "  0.50425989 0.50567729 0.12673895 0.28044221]\n",
            " [0.14899826 0.11125605 0.88883015 0.0326135  0.30149998 0.40034654\n",
            "  0.48536688 0.88971039 0.69668558 0.80644575]\n",
            " [0.5632488  0.69811994 0.67084576 0.72339773 0.79397535 0.60743756\n",
            "  0.28942421 0.38414097 0.24703873 0.71467926]\n",
            " [0.22577654 0.1028019  0.18324376 0.81168729 0.44175576 0.84032958\n",
            "  0.39723345 0.80863421 0.79219323 0.06925835]\n",
            " [0.08753856 0.04977106 0.66924465 0.198954   0.57887912 0.71414493\n",
            "  0.759435   0.45942519 0.54978951 0.90534503]\n",
            " [0.35159261 0.05944194 0.20561123 0.26941418 0.46296056 0.45618069\n",
            "  0.99880236 0.72614686 0.5849856  0.82947571]\n",
            " [0.19075665 0.75326312 0.4492549  0.85008408 0.55784727 0.78138666\n",
            "  0.69492798 0.7126569  0.11916395 0.92932571]\n",
            " [0.55033964 0.46542538 0.68779443 0.03975023 0.52319143 0.92959906\n",
            "  0.59813907 0.47133427 0.57208484 0.51757001]\n",
            " [0.69812919 0.40020882 0.48004683 0.76671691 0.68240187 0.76627238\n",
            "  0.51738717 0.36348712 0.04248323 0.26729745]\n",
            " [0.12341075 0.00247748 0.84205142 0.31271847 0.07706311 0.48246175\n",
            "  0.40521543 0.28601543 0.63241702 0.80135117]]\n",
            "\n",
            "min value =  0.002477478405124134\n",
            "max value =  0.9988023575925791\n"
          ]
        }
      ]
    },
    {
      "cell_type": "code",
      "source": [
        "# Question 6\n",
        "import numpy as np\n",
        "\n",
        "# zero array of size 10\n",
        "array = np.zeros(10)\n",
        "\n",
        "# Replacing the 5th element (index 4) with 1\n",
        "array[4] = 1\n",
        "\n",
        "print(array)"
      ],
      "metadata": {
        "colab": {
          "base_uri": "https://localhost:8080/"
        },
        "id": "44xeMNF1WC1u",
        "outputId": "eaa1c65a-3e8e-4ee7-903c-22bc73989f6d"
      },
      "execution_count": null,
      "outputs": [
        {
          "output_type": "stream",
          "name": "stdout",
          "text": [
            "[0. 0. 0. 0. 1. 0. 0. 0. 0. 0.]\n"
          ]
        }
      ]
    },
    {
      "cell_type": "code",
      "source": [
        "# Question 7\n",
        "import numpy as np\n",
        "\n",
        "arr = np.array([1, 2, 0, 0, 4, 0])  # Convert the list to a NumPy array\n",
        "rev_arr = arr[::-1]  # Reverse the array using slicing\n",
        "\n",
        "print(rev_arr)"
      ],
      "metadata": {
        "colab": {
          "base_uri": "https://localhost:8080/"
        },
        "id": "Hp4aFVUHWOIQ",
        "outputId": "f49ed0b8-2a06-45ae-c1d7-0ef91d17b8b8"
      },
      "execution_count": null,
      "outputs": [
        {
          "output_type": "stream",
          "name": "stdout",
          "text": [
            "[0 4 0 0 2 1]\n"
          ]
        }
      ]
    },
    {
      "cell_type": "code",
      "source": [
        "# Question 8\n",
        "# First creating a 5x5 array with zeros\n",
        "arr = np.zeros((5, 5), dtype = int)\n",
        "\n",
        "# Setting the first and the last row as 1\n",
        "arr[0, :] = 1     # sets all elements in the first row (index 0) to 1\n",
        "arr[-1, :] = 1    # sets all elements in the last row.\n",
        "\n",
        "# Setting the first and the last column as 1\n",
        "arr[:, 0] = 1     # sets all elements in the first column (index 0) to 1\n",
        "arr[:, -1] = 1    # sets all elements in the last column (index -1) to 1.\n",
        "\n",
        "print(arr)"
      ],
      "metadata": {
        "colab": {
          "base_uri": "https://localhost:8080/"
        },
        "id": "G5CX2XNsl45d",
        "outputId": "cb49c0c2-7900-4998-c924-fdff06c0dbb2"
      },
      "execution_count": null,
      "outputs": [
        {
          "output_type": "stream",
          "name": "stdout",
          "text": [
            "[[1 1 1 1 1]\n",
            " [1 0 0 0 1]\n",
            " [1 0 0 0 1]\n",
            " [1 0 0 0 1]\n",
            " [1 1 1 1 1]]\n"
          ]
        }
      ]
    },
    {
      "cell_type": "code",
      "source": [
        "# Question 9\n",
        "import numpy as np\n",
        "\n",
        "# Creating an 8x8 matrix\n",
        "checkerboard = np.zeros((8, 8), dtype=int)\n",
        "\n",
        "# Slicing in array\n",
        "checkerboard[::2, ::2] = 1  # selects the even rows and col\n",
        "checkerboard[1::2, 1::2] = 1  # selects the odd rows and col\n",
        "\n",
        "# Displaying the pattern\n",
        "print(checkerboard)"
      ],
      "metadata": {
        "colab": {
          "base_uri": "https://localhost:8080/"
        },
        "id": "dBrlQZYJp-yg",
        "outputId": "f75b00b7-64fa-4878-cbd3-713d35b6e648"
      },
      "execution_count": null,
      "outputs": [
        {
          "output_type": "stream",
          "name": "stdout",
          "text": [
            "[[1 0 1 0 1 0 1 0]\n",
            " [0 1 0 1 0 1 0 1]\n",
            " [1 0 1 0 1 0 1 0]\n",
            " [0 1 0 1 0 1 0 1]\n",
            " [1 0 1 0 1 0 1 0]\n",
            " [0 1 0 1 0 1 0 1]\n",
            " [1 0 1 0 1 0 1 0]\n",
            " [0 1 0 1 0 1 0 1]]\n"
          ]
        }
      ]
    },
    {
      "cell_type": "code",
      "source": [
        "# ARRAY OPERATION\n",
        "import numpy as np\n",
        "\n",
        "# Define the arrays\n",
        "x = np.array([[1, 2], [3, 5]])\n",
        "y = np.array([[5, 6], [7, 8]])\n",
        "v = np.array([9, 10])\n",
        "w = np.array([11, 12])\n",
        "\n",
        "# 1\n",
        "sum_arr = x + y\n",
        "print(\"Sum of x and y:\")\n",
        "print(sum_arr)\n",
        "\n",
        "# 2\n",
        "difference_arr = x - y\n",
        "print(\"\\nDifference of x and y:\")\n",
        "print(difference_arr)\n",
        "\n",
        "# 3\n",
        "multiplied_arr = x * 2\n",
        "print(\"\\nx multiplied by 2:\")\n",
        "print(multiplied_arr)\n",
        "\n",
        "# 4\n",
        "squared_arrx = np.square(x)\n",
        "print(\"\\nSquare of each element in x:\")\n",
        "print(squared_arrx)\n",
        "\n",
        "# 5\n",
        "squared_arry = y ** 2\n",
        "print(\"\\nSquare of each element in x:\")\n",
        "print(squared_arry)\n",
        "\n",
        "# 6\n",
        "dot_product_vw = np.dot(v, w)\n",
        "print(\"\\nDot product of v and w:\")\n",
        "print(dot_product_vw)\n",
        "\n",
        "dot_product_xv = np.dot(x, v)\n",
        "print(\"\\nDot product of x and v:\")\n",
        "print(dot_product_xv)\n",
        "\n",
        "dot_product_xy = np.dot(x, y)\n",
        "print(\"\\nDot product of x and y:\")\n",
        "print(dot_product_xy)\n",
        "\n",
        "# 7\n",
        "concat_xy = np.concatenate((x, y), axis=1)\n",
        "print(\"\\nConcatenated x and y along rows:\")\n",
        "print(concat_xy)\n",
        "\n",
        "concat_vw = np.concatenate((v.reshape(-1, 1), w.reshape(-1, 1)), axis=1)\n",
        "print(\"Concatenated v and w along columns:\")\n",
        "print(concat_vw)\n",
        "\n",
        "# concat_xv = np.concatenate((x, v), axis=1)\n",
        "# ValueError: all the input arrays must have same number of dimensions"
      ],
      "metadata": {
        "colab": {
          "base_uri": "https://localhost:8080/"
        },
        "id": "5-6uBxdmwDRP",
        "outputId": "151f6236-9a1a-43fb-db50-c5d4b7dbf51f"
      },
      "execution_count": null,
      "outputs": [
        {
          "output_type": "stream",
          "name": "stdout",
          "text": [
            "Sum of x and y:\n",
            "[[ 6  8]\n",
            " [10 13]]\n",
            "\n",
            "Difference of x and y:\n",
            "[[-4 -4]\n",
            " [-4 -3]]\n",
            "\n",
            "x multiplied by 2:\n",
            "[[ 2  4]\n",
            " [ 6 10]]\n",
            "\n",
            "Square of each element in x:\n",
            "[[ 1  4]\n",
            " [ 9 25]]\n",
            "\n",
            "Square of each element in x:\n",
            "[[25 36]\n",
            " [49 64]]\n",
            "\n",
            "Dot product of v and w:\n",
            "219\n",
            "\n",
            "Dot product of x and v:\n",
            "[29 77]\n",
            "\n",
            "Dot product of x and y:\n",
            "[[19 22]\n",
            " [50 58]]\n",
            "\n",
            "Concatenated x and y along rows:\n",
            "[[1 2 5 6]\n",
            " [3 5 7 8]]\n",
            "Concatenated v and w along columns:\n",
            "[[ 9 11]\n",
            " [10 12]]\n"
          ]
        }
      ]
    },
    {
      "cell_type": "code",
      "source": [
        "# MATRIX OPERATIONS\n",
        "import numpy as np\n",
        "\n",
        "# 1. Prove A * A_inv = I\n",
        "A = np.array([[3, 4], [7, 8]])\n",
        "A_inv = np.linalg.inv(A)\n",
        "result = np.dot(A, A_inv)\n",
        "result = np.array(result, dtype=int)\n",
        "\n",
        "print(\"A * A_inv = \\n\", result)\n",
        "print()\n",
        "\n",
        "# 2. Prove AB != BA\n",
        "B = np.array([[5, 3], [2, 1]])\n",
        "AB = np.dot(A, B)\n",
        "BA = np.dot(B, A)\n",
        "print(\"AB = \\n\", AB)\n",
        "print()\n",
        "print(\"BA = \\n\", BA)\n",
        "print()\n",
        "\n",
        "# 3. Prove (AB)^T = B^T * A^T\n",
        "AB_T = np.transpose(AB)\n",
        "B_T_A_T = np.dot(np.transpose(B), np.transpose(A))\n",
        "print(\"(AB)^T = \\n\", AB_T)\n",
        "print()\n",
        "print(\"B^T * A^T = \\n\", B_T_A_T)\n",
        "print()\n",
        "\n",
        "# 4. Solve the system of equations using inverse method\n",
        "A = np.array([[2, -3, 1], [1, -1, 2], [3, 1, -1]])\n",
        "B = np.array([-1, -3, 9])\n",
        "X = []\n",
        "if(np.linalg.det(A) != 0):\n",
        "    # A_inv = np.linalg.inv(A)\n",
        "    # X = np.dot(A_inv, B)\n",
        "    X = np.linalg.solve(A, B)\n",
        "    print(\"Therefore X =\", X)\n",
        "else:\n",
        "    print(\"The matrix is singular. can't be solved.\")\n",
        "\n"
      ],
      "metadata": {
        "id": "anUnMDlcybiy",
        "colab": {
          "base_uri": "https://localhost:8080/"
        },
        "outputId": "72d88788-2d32-47b1-bef7-f7a94c11e31a"
      },
      "execution_count": null,
      "outputs": [
        {
          "output_type": "stream",
          "name": "stdout",
          "text": [
            "A * A_inv = \n",
            " [[1 0]\n",
            " [0 0]]\n",
            "\n",
            "AB = \n",
            " [[23 13]\n",
            " [51 29]]\n",
            "\n",
            "BA = \n",
            " [[36 44]\n",
            " [13 16]]\n",
            "\n",
            "(AB)^T = \n",
            " [[23 51]\n",
            " [13 29]]\n",
            "\n",
            "B^T * A^T = \n",
            " [[23 51]\n",
            " [13 29]]\n",
            "\n",
            "Therefore X = [ 2.  1. -2.]\n"
          ]
        }
      ]
    },
    {
      "cell_type": "markdown",
      "source": [],
      "metadata": {
        "id": "gagusFJDp-i3"
      }
    }
  ]
}